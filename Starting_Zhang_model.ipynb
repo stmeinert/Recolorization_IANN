{
  "nbformat": 4,
  "nbformat_minor": 0,
  "metadata": {
    "colab": {
      "name": "Starting_Zhang_model.ipynb",
      "provenance": [],
      "authorship_tag": "ABX9TyMm6Il5IJANRaqjo3H3/90h",
      "include_colab_link": true
    },
    "kernelspec": {
      "name": "python3",
      "display_name": "Python 3"
    },
    "language_info": {
      "name": "python"
    }
  },
  "cells": [
    {
      "cell_type": "markdown",
      "metadata": {
        "id": "view-in-github",
        "colab_type": "text"
      },
      "source": [
        "<a href=\"https://colab.research.google.com/github/stmeinert/Recolorization_IANN/blob/main/Starting_Zhang_model.ipynb\" target=\"_parent\"><img src=\"https://colab.research.google.com/assets/colab-badge.svg\" alt=\"Open In Colab\"/></a>"
      ]
    },
    {
      "cell_type": "code",
      "execution_count": 1,
      "metadata": {
        "colab": {
          "base_uri": "https://localhost:8080/"
        },
        "id": "fJPIFVQS8AG2",
        "outputId": "10cae807-b7f8-42d4-9202-f04806772db2"
      },
      "outputs": [
        {
          "output_type": "stream",
          "name": "stdout",
          "text": [
            "Hello Github\n"
          ]
        }
      ],
      "source": [
        "# First line test github\n",
        "print('Hello Github')"
      ]
    }
  ]
}